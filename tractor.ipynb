{
 "cells": [
  {
   "cell_type": "code",
   "execution_count": 8,
   "metadata": {
    "ExecuteTime": {
     "end_time": "2020-09-27T22:29:33.283882Z",
     "start_time": "2020-09-27T22:29:33.281119Z"
    }
   },
   "outputs": [],
   "source": [
    "import random"
   ]
  },
  {
   "cell_type": "code",
   "execution_count": 166,
   "metadata": {
    "ExecuteTime": {
     "end_time": "2020-09-28T04:22:29.484312Z",
     "start_time": "2020-09-28T04:22:29.473746Z"
    }
   },
   "outputs": [],
   "source": [
    "def get_pairs(hand, s):\n",
    "    pairs = []\n",
    "    for i in range(1, 14):\n",
    "        if hand.count((s, i)) == 2:\n",
    "            pairs.append(i)\n",
    "    return pairs\n",
    "\n",
    "def play_friend_A_Pair(hand, s):\n",
    "    pairs = get_pairs(hand, s)\n",
    "    if 10 in pairs or 13 in pairs:\n",
    "        return 20\n",
    "    if 5 in pairs:\n",
    "        return 10\n",
    "    if pairs:\n",
    "        return 0\n",
    "    this_suit = [x[1] for x in hand if x[0]==s]\n",
    "    if not this_suit:\n",
    "        return 20\n",
    "    points = []\n",
    "    if 10 in this_suit:\n",
    "        points.append(10)\n",
    "    if 13 in this_suit:\n",
    "        points.append(10)\n",
    "    if 5 in this_suit:\n",
    "        points.append(5)\n",
    "    if len(this_suit) == 1:\n",
    "        points.append(10)\n",
    "    return sum(sorted(points, reverse=True)[:2])\n",
    "\n",
    "def play_friend_A_Singles(hand, s):\n",
    "    this_suit = [x[1] for x in hand if x[0]==s]\n",
    "    if not this_suit:\n",
    "        return 20\n",
    "    points = [(10 if c==13 else c) for c in this_suit if c in [5,10,13]]\n",
    "    if len(this_suit) == 1:\n",
    "        points.append(10)\n",
    "    return sum(sorted(points, reverse=True)[:2])\n",
    "\n",
    "def play_enemy_A_Pair(hand, s):\n",
    "    pairs = get_pairs(hand, s)\n",
    "    if [x for x in pairs if x not in [5,10,13]]:\n",
    "        return 0\n",
    "    if 5 in pairs:\n",
    "        return 10\n",
    "    if 10 in pairs or 13 in pairs:\n",
    "        return 20\n",
    "    this_suit = [x[1] for x in hand if x[0]==s]\n",
    "    not_points = [x for x in this_suit if x not in [5,10,13]]\n",
    "    if len(not_points) > 1:\n",
    "        return 0\n",
    "    num_left = min(2, len(this_suit)) - len(not_points)\n",
    "    points = sorted([(10 if x==13 else x) for x in this_suit if x in [5,10,13]])\n",
    "    return sum(points[:num_left])\n",
    "\n",
    "def play_enemy_A_Singles(hand, s):\n",
    "    this_suit = [x[1] for x in hand if x[0]==s]\n",
    "    if len(this_suit) < 2:\n",
    "        return -10\n",
    "    not_points = [x for x in this_suit if x not in [5,10,13]]\n",
    "    if len(not_points) > 1:\n",
    "        return 0\n",
    "    num_left = 2 - len(not_points)\n",
    "    points = sorted([(10 if x==13 else x) for x in this_suit if x in [5,10,13]])\n",
    "    return sum(points[:num_left])\n"
   ]
  },
  {
   "cell_type": "code",
   "execution_count": 12,
   "metadata": {
    "ExecuteTime": {
     "end_time": "2020-09-27T22:30:15.494923Z",
     "start_time": "2020-09-27T22:30:15.491675Z"
    }
   },
   "outputs": [],
   "source": [
    "cards = [(0,0), (0,1)]\n",
    "for i in range(1, 5):\n",
    "    cards += [(i, n) for n in range(1, 14)]\n",
    "cards = cards * 2"
   ]
  },
  {
   "cell_type": "code",
   "execution_count": null,
   "metadata": {},
   "outputs": [],
   "source": [
    "random.shuffle(cards)\n",
    "hands = [sorted(cards[i*25:(i+1)*25]) for i in range(4)]"
   ]
  },
  {
   "cell_type": "code",
   "execution_count": 201,
   "metadata": {
    "ExecuteTime": {
     "end_time": "2020-09-28T04:44:00.049224Z",
     "start_time": "2020-09-28T04:43:27.052401Z"
    }
   },
   "outputs": [],
   "source": [
    "total = 0\n",
    "nround = 0\n",
    "nfew = 0\n",
    "nbad = 0\n",
    "ngood = 0\n",
    "s = 1\n",
    "p = 0\n",
    "f = (p + 2) % 4\n",
    "points_pair = 0\n",
    "points_singles = 0\n",
    "\n",
    "while nround < 200000:\n",
    "    total += 1\n",
    "    random.shuffle(cards)\n",
    "    hands = [[x for x in sorted(cards[i*25:(i+1)*25]) if x[1]!=2] for i in range(4)]\n",
    "    if hands[p].count((s, 1)) == 2:\n",
    "        #print([x for x in hands[p] if x[0]==s])\n",
    "        nround += 1\n",
    "        pf2 = play_friend_A_Pair(hands[f], s)\n",
    "        pf = play_friend_A_Singles(hands[f], s)\n",
    "        points_pair += pf2\n",
    "        points_singles += pf\n",
    "        if pf2 < pf:\n",
    "            nbad += 1\n",
    "        #print([x for x in hands[f] if x[0]==s])\n",
    "        #print('pair: {}, singles: {}'.format(pf2, pf))\n",
    "        for e in [i for i in range(4) if i!=p and i!=f]:\n",
    "            pf2 = play_enemy_A_Pair(hands[e], s)\n",
    "            pf = play_enemy_A_Singles(hands[e], s)\n",
    "            points_pair += pf2\n",
    "            points_singles += pf\n",
    "            if pf < 0 or pf2 < 0:\n",
    "                nfew += 1\n",
    "            if pf2 > pf:\n",
    "                ngood += 1\n",
    "            #print([x for x in hands[e] if x[0]==s])\n",
    "            #print('pair: {}, singles: {}'.format(pf2, pf))\n"
   ]
  },
  {
   "cell_type": "code",
   "execution_count": 202,
   "metadata": {
    "ExecuteTime": {
     "end_time": "2020-09-28T04:44:00.054349Z",
     "start_time": "2020-09-28T04:44:00.051336Z"
    }
   },
   "outputs": [
    {
     "name": "stdout",
     "output_type": "stream",
     "text": [
      "avg pair: 11.9, avg singles: 11.5, %few: 0.025, %bad: 0.266, %good: 0.225, %hit: 0.052\n"
     ]
    }
   ],
   "source": [
    "print('avg pair: {:.1f}, avg singles: {:.1f}, %few: {:.3f}, %bad: {:.3f}, %good: {:.3f}, %hit: {:.3f}'.format(\n",
    "    points_pair/nround, points_singles/nround, nfew/nround, nbad/nround, ngood/nround, nround/total))\n"
   ]
  }
 ],
 "metadata": {
  "kernelspec": {
   "display_name": "Python 3",
   "language": "python",
   "name": "python3"
  },
  "language_info": {
   "codemirror_mode": {
    "name": "ipython",
    "version": 3
   },
   "file_extension": ".py",
   "mimetype": "text/x-python",
   "name": "python",
   "nbconvert_exporter": "python",
   "pygments_lexer": "ipython3",
   "version": "3.7.0"
  },
  "toc": {
   "base_numbering": 1,
   "nav_menu": {},
   "number_sections": true,
   "sideBar": true,
   "skip_h1_title": false,
   "title_cell": "Table of Contents",
   "title_sidebar": "Contents",
   "toc_cell": false,
   "toc_position": {},
   "toc_section_display": true,
   "toc_window_display": false
  }
 },
 "nbformat": 4,
 "nbformat_minor": 2
}
